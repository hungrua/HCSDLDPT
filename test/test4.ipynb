{
 "cells": [
  {
   "cell_type": "code",
   "execution_count": 56,
   "metadata": {},
   "outputs": [
    {
     "name": "stdout",
     "output_type": "stream",
     "text": [
      "22050\n"
     ]
    }
   ],
   "source": [
    "import librosa\n",
    "audio_file = '../Eng_audio/Eng04.wav'\n",
    "y, sr = librosa.load(audio_file,duration=7)\n",
    "print(sr)"
   ]
  },
  {
   "cell_type": "code",
   "execution_count": 57,
   "metadata": {},
   "outputs": [
    {
     "data": {
      "text/plain": [
       "(1, 702)"
      ]
     },
     "execution_count": 57,
     "metadata": {},
     "output_type": "execute_result"
    }
   ],
   "source": [
    "frame_length = int(sr * 0.025)  # 25ms\n",
    "hop_length = int(sr * 0.01)      # 10ms\n",
    "\n",
    "# Tính toán các tính năng (ví dụ: RMS) với frame_length và hop_length đã xác định\n",
    "rms = librosa.feature.rms(y=y, frame_length=frame_length, hop_length=hop_length)\n",
    "rms.shape\n",
    "# rms_mean = rms.mean()\n",
    "# print(rms_mean)"
   ]
  },
  {
   "cell_type": "code",
   "execution_count": 58,
   "metadata": {},
   "outputs": [
    {
     "name": "stdout",
     "output_type": "stream",
     "text": [
      "0.01099103158452422\n"
     ]
    }
   ],
   "source": [
    "zero_crossing_rate = librosa.feature.zero_crossing_rate(y,frame_length=frame_length, hop_length=hop_length)\n",
    "tmp = y\n",
    "# print(zero_crossing_rate[0][len(tmp)-1])\n",
    "sum = 0\n",
    "for i in range(1,len(tmp)):\n",
    "    a  = tmp[i] if tmp[i] >0 else -tmp[i]\n",
    "    b = tmp[i-1] if tmp[i-1] >0 else -tmp[i-1]\n",
    "    sum+= abs(a-b)\n",
    "print(sum/(2*len(tmp)))"
   ]
  },
  {
   "cell_type": "code",
   "execution_count": null,
   "metadata": {},
   "outputs": [],
   "source": []
  }
 ],
 "metadata": {
  "kernelspec": {
   "display_name": "Python 3",
   "language": "python",
   "name": "python3"
  },
  "language_info": {
   "codemirror_mode": {
    "name": "ipython",
    "version": 3
   },
   "file_extension": ".py",
   "mimetype": "text/x-python",
   "name": "python",
   "nbconvert_exporter": "python",
   "pygments_lexer": "ipython3",
   "version": "3.11.5"
  }
 },
 "nbformat": 4,
 "nbformat_minor": 2
}
